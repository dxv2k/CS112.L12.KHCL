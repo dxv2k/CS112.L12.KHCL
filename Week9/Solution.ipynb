{
 "cells": [
  {
   "cell_type": "markdown",
   "metadata": {},
   "source": [
    "## ĐÈN LED \n",
    "\n",
    "Alice vừa hoàn thành một hợp đồng lắp bảng hiển thị số bằng đèn LED. Mỗi chữ số được hiển thị trong một khung chữ nhật với 7 ống đèn LED. Bằng cách bật các ống đèn LED thích hợp ta có thể hiển thị chữ số bất kỳ. Số đèn sáng càng nhiều thì việc hiển thị chữ số đó càng tốn năng lượng. Ví dụ, hiển thị chữ số 9 sẽ tốn năng lượng hơn hiển thị chữ số 7.\n",
    "\n",
    "Sau khi bàn giao sản phẩm trong tay Alice còn thừa lại một số khá nhiều các khung hiển thị số và một cục pin nguồn. Dung lượng pin cho phép bật sáng n ống đèn LED. Alice muốn dùng pin bật đúng n ống đèn để hiển thị một số và số hiển thị được phải có tổng chữ số là lớn nhất.\n",
    "\n",
    "Hãy xác định tổng lớn nhất của các chữ số của số có thể bật sáng.\n",
    "\n",
    "*Dữ liệu*: Vào từ thiết bị nhập chuẩn gồm một dòng chứa số nguyên *n* $(2 \\le n \\le 106)$.\n",
    "\n",
    "*Kết quả*: Đưa ra thiết bị xuất chuẩn một số nguyên – tổng lớn nhất đạt được.\n",
    "\n",
    "Ví dụ:\n",
    "\n",
    "|INPUT|OUTPUT|\n",
    "|-----|------|\n",
    "|7    |11    |"
   ]
  },
  {
   "cell_type": "markdown",
   "metadata": {},
   "source": [
    "## 1.Abstraction\n",
    "Tìm số A sao cho tổng chữ số của số đó là lớn nhất, với mỗi chữ số $a_i$ của số A được tạo ra từ phép biến đổi $f$ từ chữ số $b_i$ của số B sao cho tổng các chữ số $b_i$ bằng $n$ cho trước .  \n",
    "Theo công thức toán học: \n",
    "$$ \\overline{a_1a_2...a_m} \\leftrightarrow \\forall \\ {a_i} = f(b_i)\\ \\ (i=1\\div m) $$\n",
    "$$ \\Sigma_{i=1}^{n}{b_i} = n$$"
   ]
  },
  {
   "cell_type": "markdown",
   "metadata": {},
   "source": [
    "## 2.Pattern Recognition\n",
    "Phân tách số $n$ thành tổng các số $b_i$ sao cho khi biến đổi thì tổng các số $a_i$ là lớn nhất "
   ]
  },
  {
   "cell_type": "markdown",
   "metadata": {},
   "source": [
    "## 3.Design Algorithms\n",
    "Trước tiên cần định nghĩa phép biến đổi từ *b* sang số *a* \n",
    "> b -> a (b khung thì có thể hiển thị số a)  \n",
    "> 6 -> 0      \n",
    "> 2 -> 1  \n",
    "> 5 -> 2  \n",
    "> 5 -> 3  \n",
    "> 4 -> 4   \n",
    "> 5 -> 2   \n",
    "> 6 -> 6   \n",
    "> 3 -> 7   \n",
    "> 7 -> 8  \n",
    "> 6 -> 9  \n",
    "\n",
    "\n",
    "Lấy ví dụ là số 7. Ta có thể tách ra thành số $34$  \n",
    "Sau khi thực hiện phép biến đổi dựa trên bảng thì ta thu được số $74$. Tổng là 11 (lớn nhất)  \n",
    "Nhìn vào bảng thì có thể nhận ra được cùng một số 5 thì có thể chuyển ra nhiều số khác nhau. Vì yêu cầu lớn nhất nên chúng ta chỉ cần số lớn nhất.\n",
    "> 2 -> 1    \n",
    "> 4 -> 4   \n",
    "> 5 -> 2     \n",
    "> 3 -> 7   \n",
    "> 7 -> 8  \n",
    "> 6 -> 9 \n",
    "\n",
    "Tuy nhiên chúng ta chỉ cần 3 số quan trọng là\n",
    "> 2 -> 1    \n",
    "> 4 -> 4  \n",
    "> 3 -> 7 \n",
    "\n",
    "Khi dùng số 7 hoặc 6 để tạo ra 8 hoặc 9 thì chúng ta có thể dùng 2 số 3 để tạo ra 2 số 7 với tổng là 14. Dùng 5 để tạo ra 2 cũng sẽ ko làm bài toán tốt hơn. (Chúng ta có thể dùng 3 và 2 để tạo ra 8)  \n",
    "  \n",
    "Vậy đối với số $n$ đề bài, ta lấy ra phần nguyên của phép chia cho 3. Nếu phần dư la 1 thì ta trừ phần nguyên đi 1, lấy phần nguyên còn lại nhân cho 7 và cộng thêm 4 (4->4). Nếu phần dư là 2 thì lấy phần nguyên còn lại nhân cho 7 và cộng thêm 2"
   ]
  },
  {
   "cell_type": "markdown",
   "metadata": {},
   "source": [
    "## 4.Implement"
   ]
  },
  {
   "cell_type": "code",
   "execution_count": 1,
   "metadata": {},
   "outputs": [
    {
     "output_type": "stream",
     "name": "stdout",
     "text": [
      "11\n"
     ]
    }
   ],
   "source": [
    "def LED(n):\n",
    "    mod = n%3\n",
    "    if mod == 1:\n",
    "        print(7*(n//3 - 1) + 4)\n",
    "    elif mod == 0:\n",
    "        print(7*(n//3))\n",
    "    elif mod == 2:\n",
    "        print(7*(n//3) +  1)\n",
    "\n",
    "def main():\n",
    "    n = int(input())\n",
    "    LED(n)\n",
    "\n",
    "if __name__ == \"__main__\":\n",
    "    main()"
   ]
  }
 ],
 "metadata": {
  "kernelspec": {
   "display_name": "Python 3",
   "language": "python",
   "name": "python3"
  },
  "language_info": {
   "codemirror_mode": {
    "name": "ipython",
    "version": 3
   },
   "file_extension": ".py",
   "mimetype": "text/x-python",
   "name": "python",
   "nbconvert_exporter": "python",
   "pygments_lexer": "ipython3",
   "version": "3.7.9-final"
  }
 },
 "nbformat": 4,
 "nbformat_minor": 4
}