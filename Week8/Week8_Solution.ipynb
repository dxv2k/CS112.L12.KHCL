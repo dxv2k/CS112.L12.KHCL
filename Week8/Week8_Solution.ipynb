{
 "cells": [
  {
   "cell_type": "markdown",
   "metadata": {
    "id": "HGsw_PTI-o-W"
   },
   "source": [
    "# Số nguyên mới"
   ]
  },
  {
   "cell_type": "markdown",
   "metadata": {
    "id": "yL33QIuh-o-W"
   },
   "source": [
    "## 1. Abstraction\n",
    "Cho số nguyên dương $n$ có không quá 100 chữ số. Hãy xác định số nguyên lớn nhất $m$ chia hết cho 3 và khác $n$ ở đúng một chữ số.\n",
    "\n",
    "Ví dụ, $n = 123$ thì $m$ sẽ là $723$.\n",
    "\n",
    "Dữ liệu: Vào từ thiết bị nhập chuẩn gồm một dòng chứa số nguyên n có không quá 100 chữ số và không chứa các số 0 không có nghĩa.\n",
    "\n",
    "Kết quả: Đưa ra thiết bị xuất chuẩn số nguyên m tìm được. <br>\n",
    "\n",
    "|   INPUT   |   OUTPUT  |\n",
    "|-----------|-----------|\n",
    "|123        |723        |\n",
    "\n",
    "Abstract: Tìm số nguyên dương $m$ chia hết cho 3 và khác $n$ đúng một chữ số"
   ]
  },
  {
   "cell_type": "markdown",
   "metadata": {
    "id": "F0MzvYtc-o-W"
   },
   "source": [
    "## 2. Pattern Recognition\n",
    "Xử lý bài toán duyệt qua các chữ số của số nguyên $n$"
   ]
  },
  {
   "cell_type": "markdown",
   "metadata": {
    "id": "8yeuGlbV-o-W"
   },
   "source": [
    "## 3. Design Algorithms\n",
    "Bài toán khá đơn giản nên ta có thể thực hiện luôn"
   ]
  },
  {
   "cell_type": "markdown",
   "metadata": {
    "id": "0bcPTxAl-o-W"
   },
   "source": [
    "## 4. Implement"
   ]
  },
  {
   "cell_type": "code",
   "execution_count": 1,
   "metadata": {
    "colab": {
     "base_uri": "https://localhost:8080/"
    },
    "id": "TCeNwNbH-o-W",
    "outputId": "6a896f80-e3ef-4b23-c04a-048a986b4fdd"
   },
   "outputs": [
    {
     "name": "stdout",
     "output_type": "stream",
     "text": [
      "123\n",
      "723\n"
     ]
    }
   ],
   "source": [
    "def New_Int(a):\n",
    "    int_a = int(a)\n",
    "    list_a = list(a)\n",
    "    mod = int_a%3\n",
    "\n",
    "    magic = {\n",
    "        2:[8,5,2],\n",
    "        1:[7,4,1],\n",
    "        3:[9,6,3]\n",
    "    }\n",
    "    check=1\n",
    "    change = 0\n",
    "    while check!=0:\n",
    "        #print('mod', mod)\n",
    "        for i in range (len(list_a)):\n",
    "            list_a[i] = int(list_a[i])\n",
    "            #print('with',list_a[i])\n",
    "            # if list_a[i]!=9 :\n",
    "            for j in magic[3-mod]:\n",
    "                #print('check',j)\n",
    "                if list_a[i]+j<10:\n",
    "                    #print('has changed')\n",
    "                    list_a[i]=list_a[i]+j\n",
    "                    change=1\n",
    "                    check=0\n",
    "                    break\n",
    "            if check ==0:\n",
    "                break\n",
    "        check=0\n",
    "\n",
    "    if change==0:\n",
    "        #print(\"change...\")\n",
    "        if mod!=0:\n",
    "            list_a[-1] = int(list_a[-1])-mod\n",
    "        else:\n",
    "            list_a[-1] = int(list_a[-1])-3\n",
    "\n",
    "    return ''.join([str(x) for x in list_a])\n",
    "\n",
    "def main():\n",
    "    a = input()\n",
    "    print(New_Int(a))\n",
    "\n",
    "if __name__ == \"__main__\":\n",
    "    main()"
   ]
  },
  {
   "cell_type": "markdown",
   "metadata": {
    "id": "L-dNDGthAQqR"
   },
   "source": [
    "# CON ĐƯỜNG GỐM SỨ\n",
    "\n",
    "Sau khi bê tông hóa đê chống lụt, thành phố quyết định cho khảm lên tường bê tông của đê tranh ghép tạo bởi các mảnh gốm sứ lấy từ các lò gốm nổi tiếng trong nước. Toàn bộ con đê được chia thành n phần có độ rộng giống nhau, mỗi phần gọi là một lô. Mỗi bức tranh khảm trên đó đều phải có độ rộng giống nhau, tức là bao gồm một số như nhau các lô liên tiếp và toàn bộ tường phải được phủ kín tranh từ đầu đến cuối, mỗi lô phải được tạo màu chủ đạo (gọi là màu của lô) từ một loại gốm đặc trưng lấy từ một lò gốm nào đó trong nước, ví dụ gốm màu xanh Cô ban từ lò gốm Ánh Hồng Quảng Ninh, gốm da lươn – từ Bát Tràng Hà Nội, gốm mộc hồng nhạt – từ Biên Hòa Đồng Nai, . . . Các loại gốm này được đánh số từ $1$ đến $50 000$.\n",
    "\n",
    "<img src=\"https://raw.githubusercontent.com/hoangnhancs/CS112.L11.KHTN/master/resources/images/Section8_ConDuongGomSu.png\" alt=\"gomsu\"/>\n",
    "\n",
    "Hướng dẫn viên du lịch giới thiệu với khách tham quan là có 2 nhóm nghệ nhân được giao việc tạo hình và khảm tranh. Với mỗi nhóm các bức tranh của đều được đặc trưng bởi dãy số ($c_1, c_2, . . ., c_k$), trong đó $k$ là độ rộng của tranh, $c_i$ – màu của lô, $i$ $ = 1 ÷ k$, các bức tranh khác nhau có thể khác nhau ở trình tự xuất hiện màu của các lô, ví dụ với dãy số đặc trưng $(2, 6, 2, 9)$, trình tự màu trong tranh có thể là $(9, 2, 2, 6)$ hoặc $(6, 9, 2, 2)$ nhưng không thể là $(6, 9, 2, 3)$. Dãy đặc trưng của $2$ nhóm là khác nhau, tức là không thể bằng phép hoán vị trình tự màu của lô để đưa một dãy về dãy kia. Các bức tranh được ghép với nhau rất hài hòa và khách tham quan không nhận biết được sự chuyển tiếp từ tranh này sang tranh khác. Tuy vậy nhiều khách tham quan vẫn muốn biết có bao nhiêu bức tranh đã tạo ra và trong đó số bức tranh của mỗi nhóm là bao nhiêu.\n",
    "\n",
    "Hãy xác định số lượng tranh có thể có và số lượng tranh mỗi nhóm đã làm. biết rằng nhóm nào cũng có tranh của mình.\n",
    "\n",
    "*Dữ liệu:*   \n",
    "\n",
    "- Dòng đầu tiên chứa một số nguyên $n$ – số lượng lô của con đê $2 \\le n \\le 10^5 $,\n",
    "- Dòng thứ 2 chứa **n** số nguyên $a_1, a_2, . . ., a_n $  – màu của các lô $(1 \\le a_i \\le 50 000, i = 1 \\div n)$.\n",
    "\n",
    "*Kết quả:*  \n",
    "- Dòng đầu tiên chứa số nguyên **m** – số lượng phương án khác nhau chia con đường thành các bức tranh, nếu không có cách phân chia để đảm bảo phân biệt tranh của đúng 2 nhóm thì đưa ra số -1. Nếu có cách phân biệt thì ở mỗi dòng tiếp theo đưa ra 3 số nguyên **k**, **p** và **q** – độ rộng bức tranh, số tranh do nhóm 1 thực hiện và số tranh do nhóm 2 thực hiện, thông tin đưa ra theo thứ tự tăng dần của k và ở mỗi dòng có $p \\ge q \\gt 0 $.\n",
    "\n",
    "***Ví dụ:***\n",
    "\n",
    "|Input            |Output|\n",
    "|-----------------|------|\n",
    "|9                |1     |\n",
    "|1 2 3 6 4 9 3 1 2|3 2 1 |"
   ]
  },
  {
   "cell_type": "markdown",
   "metadata": {
    "id": "yL33QIuh-o-W"
   },
   "source": [
    "## 1. Abstraction"
   ]
  },
  {
   "cell_type": "markdown",
   "metadata": {
    "id": "F0MzvYtc-o-W"
   },
   "source": [
    "## 2. Pattern Recognition"
   ]
  },
  {
   "cell_type": "markdown",
   "metadata": {
    "id": "8yeuGlbV-o-W"
   },
   "source": [
    "## 3. Design Algorithms\n",
    "Bài toán khá đơn giản nên ta có thể thực hiện luôn"
   ]
  },
  {
   "cell_type": "markdown",
   "metadata": {
    "id": "0bcPTxAl-o-W"
   },
   "source": [
    "## 4. Implement"
   ]
  },
  {
   "cell_type": "code",
   "execution_count": 1,
   "metadata": {
    "colab": {
     "base_uri": "https://localhost:8080/"
    },
    "id": "zNQlibl9_BU0",
    "outputId": "e04c2712-2e32-40ac-8e4b-d0425a242022"
   },
   "outputs": [
    {
     "output_type": "stream",
     "name": "stdout",
     "text": [
      "1\n3 2 1\n"
     ]
    }
   ],
   "source": [
    "def get_H(l, r, H):\n",
    "    return H[r] - H[l - 1]\n",
    "\n",
    "def solve(x, ans, n, H):\n",
    "    n1 = 0\n",
    "    n2 = 0\n",
    "    s1 = -1\n",
    "    s2 = -1\n",
    "    for i in range(1, n + 1, x):\n",
    "        s = get_H(i, i + x - 1, H)\n",
    "        if s == s1 or s1 == -1:\n",
    "            n1 += 1\n",
    "            s1 = s\n",
    "        elif s == s2 or s2 == -1:\n",
    "            n2 += 1\n",
    "            s2 = s\n",
    "        else:\n",
    "            return\n",
    "    if n1 > 0 and n2 > 0:\n",
    "        ans += [(x, n1, n2)]\n",
    "\n",
    "def main():\n",
    "    n = int(input().strip())\n",
    "    a = list(map(int, input().strip().split()))\n",
    "\n",
    "    H = [0] * (n + 1)\n",
    "    a = [0] + a\n",
    "\n",
    "    for i in range(1, n + 1):\n",
    "        H[i] = H[i - 1] + a[i] * (a[i] + 11) * (a[i] + 17)\n",
    "    ans = []\n",
    "\n",
    "    for i in range(1, n):\n",
    "        if n % i == 0:\n",
    "            solve(i, ans, n, H)\n",
    "\n",
    "    if len(ans) == 0:\n",
    "        print(-1)\n",
    "    else:\n",
    "        print(len(ans))\n",
    "        for x in ans:\n",
    "            print(*x)\n",
    "\n",
    "if __name__ == \"__main__\":\n",
    "    main()"
   ]
  }
 ],
 "metadata": {
  "colab": {
   "name": "Report.ipynb",
   "provenance": []
  },
  "kernelspec": {
   "display_name": "Python 3",
   "language": "python",
   "name": "python3"
  },
  "language_info": {
   "codemirror_mode": {
    "name": "ipython",
    "version": 3
   },
   "file_extension": ".py",
   "mimetype": "text/x-python",
   "name": "python",
   "nbconvert_exporter": "python",
   "pygments_lexer": "ipython3",
   "version": "3.7.9-final"
  }
 },
 "nbformat": 4,
 "nbformat_minor": 4
}